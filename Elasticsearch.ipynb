{
 "cells": [
  {
   "cell_type": "code",
   "execution_count": 1,
   "metadata": {},
   "outputs": [],
   "source": [
    "import json\n",
    "from es_connection import EsManagement\n",
    "import os\n",
    "import time\n",
    "\n",
    "import warnings\n",
    "warnings.filterwarnings('ignore')\n"
   ]
  },
  {
   "cell_type": "code",
   "execution_count": 2,
   "metadata": {},
   "outputs": [
    {
     "name": "stdout",
     "output_type": "stream",
     "text": [
      "{'acknowledged': True}\n",
      "{'acknowledged': True, 'shards_acknowledged': True, 'index': 'address_index'}\n"
     ]
    }
   ],
   "source": [
    "with open('elasticsearch-config/address_mapping.json', encoding='utf-8') as f:\n",
    "    address_mapping = json.load(f)\n",
    "\n",
    "index_name = \"address_index\"\n",
    "\n",
    "es_connection = EsManagement()\n",
    "es_connection.clear_index(index_name=index_name)\n",
    "es_connection.create_index(index_name=index_name, mapping=address_mapping)"
   ]
  },
  {
   "cell_type": "code",
   "execution_count": 13,
   "metadata": {},
   "outputs": [
    {
     "data": {
      "text/plain": [
       "{'settings': {'index': {'analysis': {'filter': {'EL_synonym': {'type': 'synonym',\n",
       "      'synonyms': ['خ => خیابان',\n",
       "       'ک => کوچه',\n",
       "       'ك => کوچه',\n",
       "       'ب => بلوار',\n",
       "       'پ => پلاک',\n",
       "       'م => میدان',\n",
       "       'بل => بلوار',\n",
       "       'بن => بن بست',\n",
       "       'خر => تهرانپارس']}},\n",
       "    'analyzer': {'EL_address_analyzer': {'filter': ['lowercase',\n",
       "       'elision',\n",
       "       'asciifolding',\n",
       "       'EL_synonym'],\n",
       "      'type': 'custom',\n",
       "      'tokenizer': 'standard'}}}}},\n",
       " 'mappings': {'properties': {'address': {'type': 'text',\n",
       "    'analyzer': 'EL_address_analyzer'},\n",
       "   'building_no': {'type': 'keyword'},\n",
       "   'unit': {'type': 'text'}}}}"
      ]
     },
     "execution_count": 13,
     "metadata": {},
     "output_type": "execute_result"
    }
   ],
   "source": [
    "address_mapping"
   ]
  },
  {
   "cell_type": "code",
   "execution_count": 3,
   "metadata": {},
   "outputs": [
    {
     "name": "stdout",
     "output_type": "stream",
     "text": [
      "{\n",
      " \"address_index\": {\n",
      "  \"mappings\": {\n",
      "   \"properties\": {\n",
      "    \"address\": {\n",
      "     \"type\": \"text\",\n",
      "     \"analyzer\": \"EL_address_analyzer\"\n",
      "    },\n",
      "    \"building_no\": {\n",
      "     \"type\": \"keyword\"\n",
      "    },\n",
      "    \"unit\": {\n",
      "     \"type\": \"text\"\n",
      "    }\n",
      "   }\n",
      "  }\n",
      " }\n",
      "}\n"
     ]
    }
   ],
   "source": [
    "print(\n",
    "  json.dumps(\n",
    "    es_connection.es.indices.get_mapping(index=index_name), \n",
    "    indent=1)\n",
    ")"
   ]
  },
  {
   "cell_type": "markdown",
   "metadata": {},
   "source": [
    "<h1> INDEXING </h1>"
   ]
  },
  {
   "cell_type": "code",
   "execution_count": 3,
   "metadata": {},
   "outputs": [
    {
     "name": "stdout",
     "output_type": "stream",
     "text": [
      "Elapsed time: 37.589699029922485\n"
     ]
    }
   ],
   "source": [
    "start_time = time.time()\n",
    "es_connection.load_csv_into_index(index_name=index_name, \n",
    "                             path=os.path.join(\"data\", \"addresses.csv\"))\n",
    "print(\"Elapsed time:\", time.time() - start_time)"
   ]
  },
  {
   "cell_type": "markdown",
   "metadata": {},
   "source": [
    "<h1> SEARCH </h1>"
   ]
  },
  {
   "cell_type": "code",
   "execution_count": 6,
   "metadata": {},
   "outputs": [],
   "source": [
    "def parse_search_output(s_output):\n",
    "    hits = s_output[\"hits\"]\n",
    "    result = []\n",
    "    if hits[\"total\"][\"value\"] > 0:\n",
    "        hits = hits[\"hits\"]\n",
    "        for hit in hits:\n",
    "            result.append(hit[\"_source\"])\n",
    "    return result"
   ]
  },
  {
   "cell_type": "code",
   "execution_count": 24,
   "metadata": {},
   "outputs": [],
   "source": [
    "def customized_search(address_query='', building_no_query='', unit_query='', address_weight=1, building_no_weight=1, unit_weight=1):\n",
    "    global es_connection, index_name\n",
    "    \n",
    "    es = es_connection.es\n",
    "    query = {\n",
    "        \"size\": 10, \n",
    "        \"query\": {\n",
    "            \"bool\": {\n",
    "                \"should\":[\n",
    "                    {\"multi_match\": {\n",
    "                        \"query\": address_query,\n",
    "                        \"type\": \"bool_prefix\",\n",
    "                        \"fields\": [\"address\",\n",
    "                                   \"address._2gram\",\n",
    "                                   \"address._3gram\"],\n",
    "                        \"boost\" : address_weight}},\n",
    "                    {\"match\": {\n",
    "                        \"building_no\": {\n",
    "                            \"query\": building_no_query,\n",
    "                            \"boost\" : building_no_weight}}},\n",
    "                    {\"match\": {\"unit\": {\n",
    "                        \"query\" : unit_query,\n",
    "                        \"boost\" : unit_weight}}}\n",
    "                ]\n",
    "            }\n",
    "        },\n",
    "        \"collapse\": {\n",
    "            \"field\": \"address.keyword\"\n",
    "        }\n",
    "    }\n",
    "    \n",
    "#     query = {\n",
    "#         \"size\": 1000, \n",
    "#         \"query\": {\n",
    "#             \"bool\": {\n",
    "#                 \"must\": [\n",
    "#                         {\n",
    "#                             \"match_phrase_prefix\": {\n",
    "#                                 \"address\": {\n",
    "#                                     \"query\": address_query\n",
    "#                                 }\n",
    "#                             }\n",
    "#                         }]\n",
    "#             }\n",
    "            \n",
    "#         },\n",
    "#         \"collapse\": {\n",
    "#             \"field\": \"address.keyword\"\n",
    "#         }\n",
    "#     }\n",
    "    result = es.search(index=index_name, body=query)\n",
    "    return parse_search_output(result)"
   ]
  },
  {
   "cell_type": "code",
   "execution_count": 25,
   "metadata": {},
   "outputs": [
    {
     "name": "stdout",
     "output_type": "stream",
     "text": [
      "{'address': 'تهران،پیروزی، خ. زینتی افخم، نرسیده به م. سراسیاب دولاب', 'building_no': '30', 'unit': '1'}\n",
      "{'address': 'تهران،پیروزی، خ. زینتی افخم، نرسیده به م. سراسیاب دولاب، خراسانی', 'building_no': '33', 'unit': '5'}\n",
      "{'address': 'تهران،پیروزی، خ. زینتی افخم، نرسیده به م. سراسیاب دولاب، بن. شیرازی', 'building_no': '5', 'unit': '1'}\n",
      "{'address': 'تهران،پیروزی، خ. زینتی افخم، نرسیده به م. سراسیاب دولاب، خ. خراسانی', 'building_no': '33', 'unit': '5'}\n",
      "{'address': 'تهران،پیروزی، خ. زینتی افخم، نرسیده به م. سراسیاب دولاب، کوچه خراسانی', 'building_no': '33', 'unit': '5'}\n",
      "{'address': 'تهران،سراسیاب دولاب خ زینتی افخم کوچه قاسم طوسی کوچه افتخاری', 'building_no': '2', 'unit': '3'}\n",
      "{'address': 'تهران،پیروزی، خ. زینتی افخم، نبش م. سراسیاب دولاب،کوچه عباسی', 'building_no': '54', 'unit': '2'}\n",
      "{'address': 'تهران،پیروزی، خ. زینتی افخم، نرسیده به م. سراسیاب دولاب، کوچه اقتداری', 'building_no': '7', 'unit': '1'}\n",
      "{'address': 'تهران،پیروزی، خ. زینتی افخم، نرسیده به م. سراسیاب دولاب، نبش خ. خراسانی', 'building_no': '33', 'unit': '5'}\n",
      "{'address': 'تهران،پیروزی، خ. زینتی افخم، نرسیده به م. سراسیاب دولاب، خ. محمد عباسی', 'building_no': '29', 'unit': '3'}\n"
     ]
    }
   ],
   "source": [
    "result = customized_search(\"،دولاب زینتی \")\n",
    "for r in result:\n",
    "    print(r)"
   ]
  },
  {
   "cell_type": "code",
   "execution_count": 23,
   "metadata": {},
   "outputs": [
    {
     "data": {
      "text/plain": [
       "{'_index': 'address_index',\n",
       " '_type': '_doc',\n",
       " '_id': 'jsFHIHsBIrB2tMqiZ09Q',\n",
       " '_version': 1,\n",
       " '_seq_no': 189433,\n",
       " '_primary_term': 1,\n",
       " 'found': True,\n",
       " '_source': {'address': 'تهران،پیروزی، خ. زینتی افخم، نرسیده به م. سراسیاب دولاب، خراسانی',\n",
       "  'building_no': '33',\n",
       "  'unit': '5'}}"
      ]
     },
     "execution_count": 23,
     "metadata": {},
     "output_type": "execute_result"
    }
   ],
   "source": [
    "es_connection.es.get(index=index_name, id=\"jsFHIHsBIrB2tMqiZ09Q\")"
   ]
  },
  {
   "cell_type": "code",
   "execution_count": null,
   "metadata": {},
   "outputs": [],
   "source": []
  }
 ],
 "metadata": {
  "kernelspec": {
   "display_name": "Python (opencv)",
   "language": "python",
   "name": "opencv"
  },
  "language_info": {
   "codemirror_mode": {
    "name": "ipython",
    "version": 3
   },
   "file_extension": ".py",
   "mimetype": "text/x-python",
   "name": "python",
   "nbconvert_exporter": "python",
   "pygments_lexer": "ipython3",
   "version": "3.7.4"
  }
 },
 "nbformat": 4,
 "nbformat_minor": 4
}
